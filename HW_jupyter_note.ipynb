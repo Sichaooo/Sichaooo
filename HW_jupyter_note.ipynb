{
 "cells": [
  {
   "cell_type": "markdown",
   "metadata": {},
   "source": [
    "# My Jupyter Notebook on IBM Data Science Experience"
   ]
  },
  {
   "cell_type": "markdown",
   "metadata": {},
   "source": [
    "**Cecilia li**     \n",
    "financial engineer"
   ]
  },
  {
   "cell_type": "markdown",
   "metadata": {},
   "source": [
    "_I am interested in data science because I think the boy in my high school who can devise his own game is very cool and I want to be someone smart like that. Data science is an emerging and promising technology which can be applied in my future career and change the world._"
   ]
  },
  {
   "cell_type": "markdown",
   "metadata": {},
   "source": [
    "### AN APHORISM"
   ]
  },
  {
   "cell_type": "code",
   "execution_count": 3,
   "metadata": {},
   "outputs": [
    {
     "name": "stdout",
     "output_type": "stream",
     "text": [
      "Manners make the man\n"
     ]
    }
   ],
   "source": [
    "x='Manners make the man'\n",
    "print(x)"
   ]
  },
  {
   "cell_type": "markdown",
   "metadata": {},
   "source": [
    "Here are some aphorisms:\n",
    "1. Serving the people\n",
    "> A common motto for politicians.\n",
    "2. A satisfied customer is the best advertisement. \n",
    "> A common motto for businessmen.\n",
    "\n",
    "Every `aphorism` has a `meaning`."
   ]
  },
  {
   "cell_type": "code",
   "execution_count": null,
   "metadata": {},
   "outputs": [],
   "source": []
  }
 ],
 "metadata": {
  "kernelspec": {
   "display_name": "Python",
   "language": "python",
   "name": "conda-env-python-py"
  },
  "language_info": {
   "codemirror_mode": {
    "name": "ipython",
    "version": 3
   },
   "file_extension": ".py",
   "mimetype": "text/x-python",
   "name": "python",
   "nbconvert_exporter": "python",
   "pygments_lexer": "ipython3",
   "version": "3.6.7"
  }
 },
 "nbformat": 4,
 "nbformat_minor": 4
}
